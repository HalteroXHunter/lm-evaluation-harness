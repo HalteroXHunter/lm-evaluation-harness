{
 "cells": [
  {
   "cell_type": "code",
   "execution_count": 6,
   "metadata": {},
   "outputs": [],
   "source": [
    "YAML_boolq_string = \"\"\"\n",
    "task: vaxxstance_2021\n",
    "dataset_path: iberbench/dataset_draft # the name of the dataset on the HF Hub.\n",
    "dataset_name: vaxxstance_2021 # the dataset configuration to use. Leave `null` if your dataset does not require a config to be passed. See https://huggingface.co/docs/datasets/load_hub#configurations for more info.\n",
    "description: \"stance detection in social media, specifically targeting opinions on the Antivaxxers movement.\" # any extra keyword arguments that should be passed to the dataset constructor, e.g. `data_dir`.\n",
    "\n",
    "training_split: train\n",
    "test_split: test\n",
    "doc_to_text: \"what is the stance of the following text towards vaccination?\\nTweet: {{text}}\\nAnswer:\"\n",
    "doc_to_choice: ['FAVOR', 'NONE', 'AGAINST']\n",
    "metric_list:\n",
    "  - metric: acc\n",
    "    aggregation: mean\n",
    "    higher_is_better: true\n",
    "  - metric: f1\n",
    "    aggregation: mean\n",
    "    higher_is_better: true\n",
    "metadata:\n",
    "  version: 1.0\n",
    "\"\"\"\n",
    "with open(\"boolq.yaml\", \"w\") as f:\n",
    "    f.write(YAML_boolq_string)"
   ]
  },
  {
   "cell_type": "code",
   "execution_count": 7,
   "metadata": {},
   "outputs": [
    {
     "name": "stdout",
     "output_type": "stream",
     "text": [
      "/data/research/sharedData/conda_envs/iborrego-lmeval-newnewtask/lib/python3.10/site-packages/transformers/utils/hub.py:128: FutureWarning: Using `PYTORCH_PRETRAINED_BERT_CACHE` is deprecated and will be removed in v5 of Transformers. Use `HF_HOME` instead.\n",
      "  warnings.warn(\n",
      "/data/research/sharedData/conda_envs/iborrego-lmeval-newnewtask/lib/python3.10/site-packages/transformers/utils/hub.py:128: FutureWarning: Using `PYTORCH_TRANSFORMERS_CACHE` is deprecated and will be removed in v5 of Transformers. Use `HF_HOME` instead.\n",
      "  warnings.warn(\n",
      "/data/research/sharedData/conda_envs/iborrego-lmeval-newnewtask/lib/python3.10/site-packages/transformers/utils/hub.py:128: FutureWarning: Using `TRANSFORMERS_CACHE` is deprecated and will be removed in v5 of Transformers. Use `HF_HOME` instead.\n",
      "  warnings.warn(\n",
      "2025-01-08:10:52:48,136 INFO     [__main__.py:279] Verbosity set to INFO\n",
      "2025-01-08:10:52:48,137 INFO     [__main__.py:303] Including path: ./\n",
      "Traceback (most recent call last):\n",
      "  File \"/data/research/sharedData/conda_envs/iborrego-lmeval-newnewtask/bin/lm_eval\", line 8, in <module>\n",
      "    sys.exit(cli_evaluate())\n",
      "  File \"/data/research/users/iborrego/code/lmevalharness-new-task/lm-evaluation-harness/lm_eval/__main__.py\", line 304, in cli_evaluate\n",
      "    task_manager = TaskManager(args.verbosity, include_path=args.include_path)\n",
      "  File \"/data/research/users/iborrego/code/lmevalharness-new-task/lm-evaluation-harness/lm_eval/tasks/__init__.py\", line 34, in __init__\n",
      "    self._task_index = self.initialize_tasks(\n",
      "  File \"/data/research/users/iborrego/code/lmevalharness-new-task/lm-evaluation-harness/lm_eval/tasks/__init__.py\", line 81, in initialize_tasks\n",
      "    tasks = self._get_task_and_group(task_dir)\n",
      "  File \"/data/research/users/iborrego/code/lmevalharness-new-task/lm-evaluation-harness/lm_eval/tasks/__init__.py\", line 479, in _get_task_and_group\n",
      "    config = utils.load_yaml_config(yaml_path, mode=\"simple\")\n",
      "  File \"/data/research/users/iborrego/code/lmevalharness-new-task/lm-evaluation-harness/lm_eval/utils.py\", line 445, in load_yaml_config\n",
      "    if \"include\" in yaml_config:\n",
      "TypeError: argument of type 'NoneType' is not iterable\n"
     ]
    }
   ],
   "source": [
    "!lm_eval \\\n",
    "    --model hf \\\n",
    "    --model_args pretrained=EleutherAI/pythia-2.8b \\\n",
    "    --include_path ./ \\\n",
    "    --tasks vaxxstance_2021 \\\n",
    "    --limit 10"
   ]
  },
  {
   "cell_type": "code",
   "execution_count": null,
   "metadata": {},
   "outputs": [],
   "source": []
  }
 ],
 "metadata": {
  "kernelspec": {
   "display_name": "iborrego-lmeval-newnewtask",
   "language": "python",
   "name": "python3"
  },
  "language_info": {
   "codemirror_mode": {
    "name": "ipython",
    "version": 3
   },
   "file_extension": ".py",
   "mimetype": "text/x-python",
   "name": "python",
   "nbconvert_exporter": "python",
   "pygments_lexer": "ipython3",
   "version": "3.10.16"
  }
 },
 "nbformat": 4,
 "nbformat_minor": 2
}
